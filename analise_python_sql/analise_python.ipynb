{
 "cells": [
  {
   "cell_type": "markdown",
   "metadata": {},
   "source": [
    "## Importando as bibliotecas"
   ]
  },
  {
   "cell_type": "code",
   "execution_count": 2,
   "metadata": {},
   "outputs": [],
   "source": [
    "# pip install basedosdados==2.0.0b16 de acordo com \n",
    "import basedosdados as bd"
   ]
  },
  {
   "cell_type": "markdown",
   "metadata": {},
   "source": [
    "Tive problemas para instalar somente utilizando `pip install basedosdados`, verifiquei na issue ([visualizar issue](https://github.com/basedosdados/mais/issues/1684#issuecomment-1781128338)) que falava sobre uma correção nas dependências no momento da instalação, foi recomendado utilizar **`pip install basedosdados==2.0.0b16`** conforme o **pull** que foi mencionado na issue anterior. ([visualizar pull](https://github.com/basedosdados/mais/pull/1678))"
   ]
  },
  {
   "cell_type": "markdown",
   "metadata": {},
   "source": [
    "#### 1. Quantos chamados foram abertos no dia 01/04/2023?"
   ]
  },
  {
   "cell_type": "code",
   "execution_count": 3,
   "metadata": {},
   "outputs": [],
   "source": [
    "# Definimos a query\n",
    "query1 = \"\"\"\n",
    "SELECT \n",
    "    COUNT(*) AS chamados\n",
    "FROM \n",
    "    `datario.adm_central_atendimento_1746.chamado`\n",
    "WHERE \n",
    "    DATE(data_inicio) = '2023-04-01'\n",
    "\"\"\""
   ]
  },
  {
   "cell_type": "code",
   "execution_count": 15,
   "metadata": {},
   "outputs": [],
   "source": [
    "# o ID do projeto a ser 'cobrado', de acordo com recomendação do github da lib\n",
    "bd.config.billing_project_id = '<dados-rio-gbs>'"
   ]
  },
  {
   "cell_type": "code",
   "execution_count": 4,
   "metadata": {},
   "outputs": [
    {
     "name": "stdout",
     "output_type": "stream",
     "text": [
      "Please visit this URL to authorize this application: https://accounts.google.com/o/oauth2/auth?response_type=code&client_id=262006177488-3425ks60hkk80fssi9vpohv88g6q1iqd.apps.googleusercontent.com&redirect_uri=http%3A%2F%2Flocalhost%3A8080%2F&scope=https%3A%2F%2Fwww.googleapis.com%2Fauth%2Fcloud-platform&state=lJI0mhHKqlRTuMF0jw8lt2hSNKmlsY&prompt=consent&access_type=offline\n",
      "Downloading: 100%|\u001b[32m██████████\u001b[0m|\n"
     ]
    }
   ],
   "source": [
    "# criando o Pandas DataFrame com a query\n",
    "df_query1 = bd.read_sql(query1)"
   ]
  },
  {
   "cell_type": "code",
   "execution_count": 5,
   "metadata": {},
   "outputs": [
    {
     "data": {
      "text/html": [
       "<div>\n",
       "<style scoped>\n",
       "    .dataframe tbody tr th:only-of-type {\n",
       "        vertical-align: middle;\n",
       "    }\n",
       "\n",
       "    .dataframe tbody tr th {\n",
       "        vertical-align: top;\n",
       "    }\n",
       "\n",
       "    .dataframe thead th {\n",
       "        text-align: right;\n",
       "    }\n",
       "</style>\n",
       "<table border=\"1\" class=\"dataframe\">\n",
       "  <thead>\n",
       "    <tr style=\"text-align: right;\">\n",
       "      <th></th>\n",
       "      <th>chamados</th>\n",
       "    </tr>\n",
       "  </thead>\n",
       "  <tbody>\n",
       "    <tr>\n",
       "      <th>0</th>\n",
       "      <td>1756</td>\n",
       "    </tr>\n",
       "  </tbody>\n",
       "</table>\n",
       "</div>"
      ],
      "text/plain": [
       "   chamados\n",
       "0      1756"
      ]
     },
     "execution_count": 5,
     "metadata": {},
     "output_type": "execute_result"
    }
   ],
   "source": [
    "# Visualizando a tabela\n",
    "df_query1.head()"
   ]
  },
  {
   "cell_type": "markdown",
   "metadata": {},
   "source": [
    "R: 1756 chamados foram abertoes neste dia.\n",
    "\n",
    "A resposta saiu conforme esperado nesta tentativa de uso da biblioteca, iremos continuar utilizando este formato."
   ]
  },
  {
   "cell_type": "markdown",
   "metadata": {},
   "source": [
    "#### 2. Qual o tipo de chamado que teve mais teve chamados abertos no dia 01/04/2023?"
   ]
  },
  {
   "cell_type": "code",
   "execution_count": 7,
   "metadata": {},
   "outputs": [
    {
     "name": "stdout",
     "output_type": "stream",
     "text": [
      "Downloading: 100%|\u001b[32m██████████\u001b[0m|\n"
     ]
    },
    {
     "data": {
      "text/html": [
       "<div>\n",
       "<style scoped>\n",
       "    .dataframe tbody tr th:only-of-type {\n",
       "        vertical-align: middle;\n",
       "    }\n",
       "\n",
       "    .dataframe tbody tr th {\n",
       "        vertical-align: top;\n",
       "    }\n",
       "\n",
       "    .dataframe thead th {\n",
       "        text-align: right;\n",
       "    }\n",
       "</style>\n",
       "<table border=\"1\" class=\"dataframe\">\n",
       "  <thead>\n",
       "    <tr style=\"text-align: right;\">\n",
       "      <th></th>\n",
       "      <th>tipo</th>\n",
       "      <th>chamadas_por_tipo</th>\n",
       "    </tr>\n",
       "  </thead>\n",
       "  <tbody>\n",
       "    <tr>\n",
       "      <th>0</th>\n",
       "      <td>Estacionamento irregular</td>\n",
       "      <td>366</td>\n",
       "    </tr>\n",
       "    <tr>\n",
       "      <th>1</th>\n",
       "      <td>Remoção Gratuita</td>\n",
       "      <td>196</td>\n",
       "    </tr>\n",
       "    <tr>\n",
       "      <th>2</th>\n",
       "      <td>Manutenção de iluminação pública</td>\n",
       "      <td>122</td>\n",
       "    </tr>\n",
       "    <tr>\n",
       "      <th>3</th>\n",
       "      <td>Limpeza de logradouros</td>\n",
       "      <td>116</td>\n",
       "    </tr>\n",
       "    <tr>\n",
       "      <th>4</th>\n",
       "      <td>Perturbação do sossego</td>\n",
       "      <td>111</td>\n",
       "    </tr>\n",
       "  </tbody>\n",
       "</table>\n",
       "</div>"
      ],
      "text/plain": [
       "                               tipo  chamadas_por_tipo\n",
       "0          Estacionamento irregular                366\n",
       "1                  Remoção Gratuita                196\n",
       "2  Manutenção de iluminação pública                122\n",
       "3            Limpeza de logradouros                116\n",
       "4            Perturbação do sossego                111"
      ]
     },
     "execution_count": 7,
     "metadata": {},
     "output_type": "execute_result"
    }
   ],
   "source": [
    "# Definimos a query\n",
    "query2 = \"\"\"\n",
    "SELECT \n",
    "    tipo, COUNT(*) AS chamadas_por_tipo \n",
    "FROM \n",
    "    `datario.adm_central_atendimento_1746.chamado`\n",
    "WHERE \n",
    "    DATE(data_inicio) = '2023-04-01'\n",
    "GROUP BY \n",
    "    tipo\n",
    "ORDER BY \n",
    "    chamadas_por_tipo DESC\n",
    "\"\"\"\n",
    "\n",
    "# criando o Pandas DataFrame\n",
    "df_query2 = bd.read_sql(query2, billing_project_id=\"dados-rio-gbs\")\n",
    "df_query2.head()"
   ]
  },
  {
   "cell_type": "markdown",
   "metadata": {},
   "source": [
    "R: Estacionamento irregular com 366 chamados abertos."
   ]
  },
  {
   "cell_type": "markdown",
   "metadata": {},
   "source": [
    "#### 3. Quais os nomes dos 3 bairros que mais tiveram chamados abertos nesse dia?"
   ]
  },
  {
   "cell_type": "code",
   "execution_count": 8,
   "metadata": {},
   "outputs": [
    {
     "name": "stdout",
     "output_type": "stream",
     "text": [
      "Downloading: 100%|\u001b[32m██████████\u001b[0m|\n"
     ]
    },
    {
     "data": {
      "text/html": [
       "<div>\n",
       "<style scoped>\n",
       "    .dataframe tbody tr th:only-of-type {\n",
       "        vertical-align: middle;\n",
       "    }\n",
       "\n",
       "    .dataframe tbody tr th {\n",
       "        vertical-align: top;\n",
       "    }\n",
       "\n",
       "    .dataframe thead th {\n",
       "        text-align: right;\n",
       "    }\n",
       "</style>\n",
       "<table border=\"1\" class=\"dataframe\">\n",
       "  <thead>\n",
       "    <tr style=\"text-align: right;\">\n",
       "      <th></th>\n",
       "      <th>id_bairro</th>\n",
       "      <th>nome_bairro</th>\n",
       "      <th>qtd_chamado</th>\n",
       "    </tr>\n",
       "  </thead>\n",
       "  <tbody>\n",
       "    <tr>\n",
       "      <th>0</th>\n",
       "      <td>144</td>\n",
       "      <td>Campo Grande</td>\n",
       "      <td>113</td>\n",
       "    </tr>\n",
       "    <tr>\n",
       "      <th>1</th>\n",
       "      <td>33</td>\n",
       "      <td>Tijuca</td>\n",
       "      <td>89</td>\n",
       "    </tr>\n",
       "    <tr>\n",
       "      <th>2</th>\n",
       "      <td>None</td>\n",
       "      <td>None</td>\n",
       "      <td>73</td>\n",
       "    </tr>\n",
       "    <tr>\n",
       "      <th>3</th>\n",
       "      <td>128</td>\n",
       "      <td>Barra da Tijuca</td>\n",
       "      <td>59</td>\n",
       "    </tr>\n",
       "    <tr>\n",
       "      <th>4</th>\n",
       "      <td>141</td>\n",
       "      <td>Bangu</td>\n",
       "      <td>53</td>\n",
       "    </tr>\n",
       "  </tbody>\n",
       "</table>\n",
       "</div>"
      ],
      "text/plain": [
       "  id_bairro      nome_bairro  qtd_chamado\n",
       "0       144     Campo Grande          113\n",
       "1        33           Tijuca           89\n",
       "2      None             None           73\n",
       "3       128  Barra da Tijuca           59\n",
       "4       141            Bangu           53"
      ]
     },
     "execution_count": 8,
     "metadata": {},
     "output_type": "execute_result"
    }
   ],
   "source": [
    "query3 = \"\"\"\n",
    "SELECT \n",
    "  `datario.adm_central_atendimento_1746.chamado`.id_bairro,\n",
    "  `datario.dados_mestres.bairro`.nome as nome_bairro,\n",
    "  COUNT(*) AS qtd_chamado \n",
    "FROM \n",
    "  `datario.adm_central_atendimento_1746.chamado`\n",
    "LEFT JOIN \n",
    "  `datario.dados_mestres.bairro`\n",
    "  ON `datario.adm_central_atendimento_1746.chamado`.id_bairro = `datario.dados_mestres.bairro`.id_bairro\n",
    "WHERE\n",
    "  DATE(data_inicio) = '2023-04-01'\n",
    "GROUP BY\n",
    "  id_bairro, nome_bairro\n",
    "ORDER BY\n",
    "  qtd_chamado DESC\n",
    "\"\"\"\n",
    "\n",
    "# criando o Pandas DataFrame\n",
    "df_query3 = bd.read_sql(query3, billing_project_id=\"dados-rio-gbs\")\n",
    "df_query3.head()"
   ]
  },
  {
   "cell_type": "markdown",
   "metadata": {},
   "source": [
    "R: Campo Grande, Tijuca e Barra da Tijuca. Importante salientar que há 73 chamados não associados a um bairro, por isso o bairro 128 foi incluído no top 3."
   ]
  },
  {
   "cell_type": "markdown",
   "metadata": {},
   "source": [
    "#### 4. Qual o nome da subprefeitura com mais chamados abertos nesse dia?"
   ]
  },
  {
   "cell_type": "code",
   "execution_count": 9,
   "metadata": {},
   "outputs": [
    {
     "name": "stdout",
     "output_type": "stream",
     "text": [
      "Downloading: 100%|\u001b[32m██████████\u001b[0m|\n"
     ]
    },
    {
     "data": {
      "text/html": [
       "<div>\n",
       "<style scoped>\n",
       "    .dataframe tbody tr th:only-of-type {\n",
       "        vertical-align: middle;\n",
       "    }\n",
       "\n",
       "    .dataframe tbody tr th {\n",
       "        vertical-align: top;\n",
       "    }\n",
       "\n",
       "    .dataframe thead th {\n",
       "        text-align: right;\n",
       "    }\n",
       "</style>\n",
       "<table border=\"1\" class=\"dataframe\">\n",
       "  <thead>\n",
       "    <tr style=\"text-align: right;\">\n",
       "      <th></th>\n",
       "      <th>subprefeitura</th>\n",
       "      <th>qtd_chamado</th>\n",
       "    </tr>\n",
       "  </thead>\n",
       "  <tbody>\n",
       "    <tr>\n",
       "      <th>0</th>\n",
       "      <td>Zona Norte</td>\n",
       "      <td>510</td>\n",
       "    </tr>\n",
       "    <tr>\n",
       "      <th>1</th>\n",
       "      <td>Zona Oeste</td>\n",
       "      <td>238</td>\n",
       "    </tr>\n",
       "    <tr>\n",
       "      <th>2</th>\n",
       "      <td>Zona Sul</td>\n",
       "      <td>233</td>\n",
       "    </tr>\n",
       "    <tr>\n",
       "      <th>3</th>\n",
       "      <td>Grande Tijuca</td>\n",
       "      <td>159</td>\n",
       "    </tr>\n",
       "    <tr>\n",
       "      <th>4</th>\n",
       "      <td>Jacarepaguá</td>\n",
       "      <td>145</td>\n",
       "    </tr>\n",
       "  </tbody>\n",
       "</table>\n",
       "</div>"
      ],
      "text/plain": [
       "   subprefeitura  qtd_chamado\n",
       "0     Zona Norte          510\n",
       "1     Zona Oeste          238\n",
       "2       Zona Sul          233\n",
       "3  Grande Tijuca          159\n",
       "4    Jacarepaguá          145"
      ]
     },
     "execution_count": 9,
     "metadata": {},
     "output_type": "execute_result"
    }
   ],
   "source": [
    "query4 = \"\"\"\n",
    "SELECT \n",
    "  `datario.dados_mestres.bairro`.subprefeitura,\n",
    "  COUNT(*) AS qtd_chamado \n",
    "FROM \n",
    "  `datario.adm_central_atendimento_1746.chamado`\n",
    "LEFT JOIN \n",
    "  `datario.dados_mestres.bairro`\n",
    "  ON `datario.adm_central_atendimento_1746.chamado`.id_bairro = `datario.dados_mestres.bairro`.id_bairro\n",
    "WHERE\n",
    "  DATE(data_inicio) = '2023-04-01'\n",
    "GROUP BY\n",
    "  subprefeitura\n",
    "ORDER BY\n",
    "  qtd_chamado DESC\n",
    "\"\"\"\n",
    "\n",
    "# criando o Pandas DataFrame\n",
    "df_query4 = bd.read_sql(query4, billing_project_id=\"dados-rio-gbs\")\n",
    "df_query4.head()"
   ]
  },
  {
   "cell_type": "markdown",
   "metadata": {},
   "source": [
    "R: subprefeitura 'Zona Norte', com 510 chamados abertos."
   ]
  },
  {
   "cell_type": "markdown",
   "metadata": {},
   "source": [
    "#### 5. Existe algum chamado aberto nesse dia que não foi associado a um bairro ou subprefeitura na tabela de bairros? Se sim, por que isso acontece?"
   ]
  },
  {
   "cell_type": "code",
   "execution_count": 10,
   "metadata": {},
   "outputs": [
    {
     "name": "stdout",
     "output_type": "stream",
     "text": [
      "Downloading: 100%|\u001b[32m██████████\u001b[0m|\n"
     ]
    },
    {
     "data": {
      "text/html": [
       "<div>\n",
       "<style scoped>\n",
       "    .dataframe tbody tr th:only-of-type {\n",
       "        vertical-align: middle;\n",
       "    }\n",
       "\n",
       "    .dataframe tbody tr th {\n",
       "        vertical-align: top;\n",
       "    }\n",
       "\n",
       "    .dataframe thead th {\n",
       "        text-align: right;\n",
       "    }\n",
       "</style>\n",
       "<table border=\"1\" class=\"dataframe\">\n",
       "  <thead>\n",
       "    <tr style=\"text-align: right;\">\n",
       "      <th></th>\n",
       "      <th>nome_bairro</th>\n",
       "      <th>subprefeitura</th>\n",
       "      <th>qtd_chamado</th>\n",
       "    </tr>\n",
       "  </thead>\n",
       "  <tbody>\n",
       "    <tr>\n",
       "      <th>0</th>\n",
       "      <td>Campo Grande</td>\n",
       "      <td>Zona Oeste</td>\n",
       "      <td>113</td>\n",
       "    </tr>\n",
       "    <tr>\n",
       "      <th>1</th>\n",
       "      <td>Tijuca</td>\n",
       "      <td>Grande Tijuca</td>\n",
       "      <td>89</td>\n",
       "    </tr>\n",
       "    <tr>\n",
       "      <th>2</th>\n",
       "      <td>None</td>\n",
       "      <td>None</td>\n",
       "      <td>73</td>\n",
       "    </tr>\n",
       "    <tr>\n",
       "      <th>3</th>\n",
       "      <td>Barra da Tijuca</td>\n",
       "      <td>Barra da Tijuca</td>\n",
       "      <td>59</td>\n",
       "    </tr>\n",
       "    <tr>\n",
       "      <th>4</th>\n",
       "      <td>Bangu</td>\n",
       "      <td>Grande Bangu</td>\n",
       "      <td>53</td>\n",
       "    </tr>\n",
       "  </tbody>\n",
       "</table>\n",
       "</div>"
      ],
      "text/plain": [
       "       nome_bairro    subprefeitura  qtd_chamado\n",
       "0     Campo Grande       Zona Oeste          113\n",
       "1           Tijuca    Grande Tijuca           89\n",
       "2             None             None           73\n",
       "3  Barra da Tijuca  Barra da Tijuca           59\n",
       "4            Bangu     Grande Bangu           53"
      ]
     },
     "execution_count": 10,
     "metadata": {},
     "output_type": "execute_result"
    }
   ],
   "source": [
    "query5 = \"\"\"\n",
    "SELECT \n",
    "  `datario.dados_mestres.bairro`.nome as nome_bairro,\n",
    "  `datario.dados_mestres.bairro`.subprefeitura,\n",
    "  COUNT(*) AS qtd_chamado \n",
    "FROM \n",
    "  `datario.adm_central_atendimento_1746.chamado`\n",
    "LEFT JOIN \n",
    "  `datario.dados_mestres.bairro`\n",
    "  ON `datario.adm_central_atendimento_1746.chamado`.id_bairro = `datario.dados_mestres.bairro`.id_bairro\n",
    "WHERE\n",
    "  DATE(data_inicio) = '2023-04-01'\n",
    "GROUP BY\n",
    "  nome_bairro, subprefeitura\n",
    "ORDER BY\n",
    "  qtd_chamado DESC\n",
    "\"\"\"\n",
    "\n",
    "# criando o Pandas DataFrame\n",
    "df_query5 = bd.read_sql(query5, billing_project_id=\"dados-rio-gbs\")\n",
    "df_query5.head()"
   ]
  },
  {
   "cell_type": "markdown",
   "metadata": {},
   "source": [
    "R: Sim, existem 73 chamados abertos que não foram associados a um bairro ou subprefeitura.\n",
    "\n",
    "Pode ocorrer por dois motivos: \n",
    "\n",
    "1. Erro de digitação/inserção; ou\n",
    "2. A informação de bairro/subprefeitura foi corrompida pelo próprio código do sistema que o insere."
   ]
  },
  {
   "cell_type": "markdown",
   "metadata": {},
   "source": [
    "#### 6. Quantos chamados com o subtipo \"Perturbação do sossego\" foram abertos desde 01/01/2022 até 31/12/2023 (incluindo extremidades)?"
   ]
  },
  {
   "cell_type": "code",
   "execution_count": 12,
   "metadata": {},
   "outputs": [
    {
     "name": "stdout",
     "output_type": "stream",
     "text": [
      "Downloading: 100%|\u001b[32m██████████\u001b[0m|\n"
     ]
    },
    {
     "data": {
      "text/html": [
       "<div>\n",
       "<style scoped>\n",
       "    .dataframe tbody tr th:only-of-type {\n",
       "        vertical-align: middle;\n",
       "    }\n",
       "\n",
       "    .dataframe tbody tr th {\n",
       "        vertical-align: top;\n",
       "    }\n",
       "\n",
       "    .dataframe thead th {\n",
       "        text-align: right;\n",
       "    }\n",
       "</style>\n",
       "<table border=\"1\" class=\"dataframe\">\n",
       "  <thead>\n",
       "    <tr style=\"text-align: right;\">\n",
       "      <th></th>\n",
       "      <th>subtipo</th>\n",
       "      <th>chamados_por_subtipo</th>\n",
       "    </tr>\n",
       "  </thead>\n",
       "  <tbody>\n",
       "    <tr>\n",
       "      <th>0</th>\n",
       "      <td>Perturbação do sossego</td>\n",
       "      <td>42830</td>\n",
       "    </tr>\n",
       "  </tbody>\n",
       "</table>\n",
       "</div>"
      ],
      "text/plain": [
       "                  subtipo  chamados_por_subtipo\n",
       "0  Perturbação do sossego                 42830"
      ]
     },
     "execution_count": 12,
     "metadata": {},
     "output_type": "execute_result"
    }
   ],
   "source": [
    "query6 = \"\"\"\n",
    "SELECT \n",
    "  subtipo, COUNT(*) as chamados_por_subtipo\n",
    "FROM \n",
    "  `datario.adm_central_atendimento_1746.chamado`\n",
    "WHERE \n",
    "  DATE(data_inicio) BETWEEN '2022-01-01' AND '2023-12-31' AND subtipo = 'Perturbação do sossego'\n",
    "GROUP BY \n",
    "  subtipo\n",
    "\"\"\"\n",
    "\n",
    "# criando o Pandas DataFrame\n",
    "df_query6 = bd.read_sql(query6, billing_project_id=\"dados-rio-gbs\")\n",
    "df_query6.head()"
   ]
  },
  {
   "cell_type": "markdown",
   "metadata": {},
   "source": [
    "R: 42.830 chamados abertos no período acima mencionado, incluindo extremidades."
   ]
  },
  {
   "cell_type": "markdown",
   "metadata": {},
   "source": [
    "#### 7. Selecione os chamados com esse subtipo que foram abertos durante os eventos contidos na tabela de eventos (Reveillon, Carnaval e Rock in Rio).\n",
    "\n",
    "R: Query."
   ]
  },
  {
   "cell_type": "code",
   "execution_count": 16,
   "metadata": {},
   "outputs": [
    {
     "name": "stdout",
     "output_type": "stream",
     "text": [
      "Downloading: 100%|\u001b[32m██████████\u001b[0m|\n"
     ]
    },
    {
     "data": {
      "text/html": [
       "<div>\n",
       "<style scoped>\n",
       "    .dataframe tbody tr th:only-of-type {\n",
       "        vertical-align: middle;\n",
       "    }\n",
       "\n",
       "    .dataframe tbody tr th {\n",
       "        vertical-align: top;\n",
       "    }\n",
       "\n",
       "    .dataframe thead th {\n",
       "        text-align: right;\n",
       "    }\n",
       "</style>\n",
       "<table border=\"1\" class=\"dataframe\">\n",
       "  <thead>\n",
       "    <tr style=\"text-align: right;\">\n",
       "      <th></th>\n",
       "      <th>id_chamado</th>\n",
       "      <th>id_origem_ocorrencia</th>\n",
       "      <th>data_inicio</th>\n",
       "      <th>data_fim</th>\n",
       "      <th>id_bairro</th>\n",
       "      <th>id_territorialidade</th>\n",
       "      <th>id_logradouro</th>\n",
       "      <th>numero_logradouro</th>\n",
       "      <th>id_unidade_organizacional</th>\n",
       "      <th>nome_unidade_organizacional</th>\n",
       "      <th>...</th>\n",
       "      <th>situacao</th>\n",
       "      <th>tipo_situacao</th>\n",
       "      <th>justificativa_status</th>\n",
       "      <th>reclamacoes</th>\n",
       "      <th>data_particao</th>\n",
       "      <th>ano</th>\n",
       "      <th>data_inicial</th>\n",
       "      <th>data_final</th>\n",
       "      <th>evento</th>\n",
       "      <th>taxa_ocupacao</th>\n",
       "    </tr>\n",
       "  </thead>\n",
       "  <tbody>\n",
       "    <tr>\n",
       "      <th>0</th>\n",
       "      <td>18330689</td>\n",
       "      <td>11</td>\n",
       "      <td>2023-02-19 16:02:04</td>\n",
       "      <td>2023-02-19 16:13:01</td>\n",
       "      <td>90</td>\n",
       "      <td>3</td>\n",
       "      <td>10363</td>\n",
       "      <td>94</td>\n",
       "      <td>70</td>\n",
       "      <td>GM-RIO - Guarda Municipal do Rio de Janeiro</td>\n",
       "      <td>...</td>\n",
       "      <td>Encerrado</td>\n",
       "      <td>Atendido</td>\n",
       "      <td>None</td>\n",
       "      <td>1</td>\n",
       "      <td>2023-02-01</td>\n",
       "      <td>18/02 a 21/02 de 2023</td>\n",
       "      <td>2023-02-18</td>\n",
       "      <td>2023-02-21</td>\n",
       "      <td>Carnaval</td>\n",
       "      <td>0.9554</td>\n",
       "    </tr>\n",
       "    <tr>\n",
       "      <th>1</th>\n",
       "      <td>18329490</td>\n",
       "      <td>11</td>\n",
       "      <td>2023-02-18 21:10:10</td>\n",
       "      <td>2023-02-24 10:52:33</td>\n",
       "      <td>128</td>\n",
       "      <td>4</td>\n",
       "      <td>198499</td>\n",
       "      <td>&lt;NA&gt;</td>\n",
       "      <td>70</td>\n",
       "      <td>GM-RIO - Guarda Municipal do Rio de Janeiro</td>\n",
       "      <td>...</td>\n",
       "      <td>Encerrado</td>\n",
       "      <td>Não atendido</td>\n",
       "      <td>None</td>\n",
       "      <td>0</td>\n",
       "      <td>2023-02-01</td>\n",
       "      <td>18/02 a 21/02 de 2023</td>\n",
       "      <td>2023-02-18</td>\n",
       "      <td>2023-02-21</td>\n",
       "      <td>Carnaval</td>\n",
       "      <td>0.9554</td>\n",
       "    </tr>\n",
       "    <tr>\n",
       "      <th>2</th>\n",
       "      <td>18330160</td>\n",
       "      <td>11</td>\n",
       "      <td>2023-02-19 10:28:51</td>\n",
       "      <td>2023-02-27 08:56:48</td>\n",
       "      <td>5</td>\n",
       "      <td>1</td>\n",
       "      <td>151415</td>\n",
       "      <td>84</td>\n",
       "      <td>70</td>\n",
       "      <td>GM-RIO - Guarda Municipal do Rio de Janeiro</td>\n",
       "      <td>...</td>\n",
       "      <td>Encerrado</td>\n",
       "      <td>Não atendido</td>\n",
       "      <td>None</td>\n",
       "      <td>0</td>\n",
       "      <td>2023-02-01</td>\n",
       "      <td>18/02 a 21/02 de 2023</td>\n",
       "      <td>2023-02-18</td>\n",
       "      <td>2023-02-21</td>\n",
       "      <td>Carnaval</td>\n",
       "      <td>0.9554</td>\n",
       "    </tr>\n",
       "    <tr>\n",
       "      <th>3</th>\n",
       "      <td>18331102</td>\n",
       "      <td>11</td>\n",
       "      <td>2023-02-19 20:55:17</td>\n",
       "      <td>2023-02-28 10:04:05</td>\n",
       "      <td>90</td>\n",
       "      <td>3</td>\n",
       "      <td>34868</td>\n",
       "      <td>243</td>\n",
       "      <td>70</td>\n",
       "      <td>GM-RIO - Guarda Municipal do Rio de Janeiro</td>\n",
       "      <td>...</td>\n",
       "      <td>Encerrado</td>\n",
       "      <td>Não atendido</td>\n",
       "      <td>None</td>\n",
       "      <td>0</td>\n",
       "      <td>2023-02-01</td>\n",
       "      <td>18/02 a 21/02 de 2023</td>\n",
       "      <td>2023-02-18</td>\n",
       "      <td>2023-02-21</td>\n",
       "      <td>Carnaval</td>\n",
       "      <td>0.9554</td>\n",
       "    </tr>\n",
       "    <tr>\n",
       "      <th>4</th>\n",
       "      <td>18329699</td>\n",
       "      <td>1</td>\n",
       "      <td>2023-02-19 00:08:53</td>\n",
       "      <td>2023-02-27 08:34:28</td>\n",
       "      <td>147</td>\n",
       "      <td>5</td>\n",
       "      <td>298851</td>\n",
       "      <td>0</td>\n",
       "      <td>70</td>\n",
       "      <td>GM-RIO - Guarda Municipal do Rio de Janeiro</td>\n",
       "      <td>...</td>\n",
       "      <td>Encerrado</td>\n",
       "      <td>Não atendido</td>\n",
       "      <td>None</td>\n",
       "      <td>0</td>\n",
       "      <td>2023-02-01</td>\n",
       "      <td>18/02 a 21/02 de 2023</td>\n",
       "      <td>2023-02-18</td>\n",
       "      <td>2023-02-21</td>\n",
       "      <td>Carnaval</td>\n",
       "      <td>0.9554</td>\n",
       "    </tr>\n",
       "  </tbody>\n",
       "</table>\n",
       "<p>5 rows × 37 columns</p>\n",
       "</div>"
      ],
      "text/plain": [
       "  id_chamado id_origem_ocorrencia         data_inicio            data_fim  \\\n",
       "0   18330689                   11 2023-02-19 16:02:04 2023-02-19 16:13:01   \n",
       "1   18329490                   11 2023-02-18 21:10:10 2023-02-24 10:52:33   \n",
       "2   18330160                   11 2023-02-19 10:28:51 2023-02-27 08:56:48   \n",
       "3   18331102                   11 2023-02-19 20:55:17 2023-02-28 10:04:05   \n",
       "4   18329699                    1 2023-02-19 00:08:53 2023-02-27 08:34:28   \n",
       "\n",
       "  id_bairro id_territorialidade id_logradouro  numero_logradouro  \\\n",
       "0        90                   3         10363                 94   \n",
       "1       128                   4        198499               <NA>   \n",
       "2         5                   1        151415                 84   \n",
       "3        90                   3         34868                243   \n",
       "4       147                   5        298851                  0   \n",
       "\n",
       "  id_unidade_organizacional                  nome_unidade_organizacional  ...  \\\n",
       "0                        70  GM-RIO - Guarda Municipal do Rio de Janeiro  ...   \n",
       "1                        70  GM-RIO - Guarda Municipal do Rio de Janeiro  ...   \n",
       "2                        70  GM-RIO - Guarda Municipal do Rio de Janeiro  ...   \n",
       "3                        70  GM-RIO - Guarda Municipal do Rio de Janeiro  ...   \n",
       "4                        70  GM-RIO - Guarda Municipal do Rio de Janeiro  ...   \n",
       "\n",
       "    situacao tipo_situacao justificativa_status reclamacoes data_particao  \\\n",
       "0  Encerrado      Atendido                 None           1    2023-02-01   \n",
       "1  Encerrado  Não atendido                 None           0    2023-02-01   \n",
       "2  Encerrado  Não atendido                 None           0    2023-02-01   \n",
       "3  Encerrado  Não atendido                 None           0    2023-02-01   \n",
       "4  Encerrado  Não atendido                 None           0    2023-02-01   \n",
       "\n",
       "                     ano data_inicial  data_final    evento  taxa_ocupacao  \n",
       "0  18/02 a 21/02 de 2023   2023-02-18  2023-02-21  Carnaval         0.9554  \n",
       "1  18/02 a 21/02 de 2023   2023-02-18  2023-02-21  Carnaval         0.9554  \n",
       "2  18/02 a 21/02 de 2023   2023-02-18  2023-02-21  Carnaval         0.9554  \n",
       "3  18/02 a 21/02 de 2023   2023-02-18  2023-02-21  Carnaval         0.9554  \n",
       "4  18/02 a 21/02 de 2023   2023-02-18  2023-02-21  Carnaval         0.9554  \n",
       "\n",
       "[5 rows x 37 columns]"
      ]
     },
     "execution_count": 16,
     "metadata": {},
     "output_type": "execute_result"
    }
   ],
   "source": [
    "query7 = \"\"\"\n",
    "SELECT \n",
    "  *\n",
    "FROM \n",
    "  `datario.adm_central_atendimento_1746.chamado`\n",
    "RIGHT JOIN `datario.turismo_fluxo_visitantes.rede_hoteleira_ocupacao_eventos`\n",
    "  ON DATE(`datario.adm_central_atendimento_1746.chamado`.data_inicio) \n",
    "    BETWEEN \n",
    "      DATE(`datario.turismo_fluxo_visitantes.rede_hoteleira_ocupacao_eventos`.data_inicial) AND DATE(`datario.turismo_fluxo_visitantes.rede_hoteleira_ocupacao_eventos`.data_final)\n",
    "WHERE \n",
    "  subtipo = 'Perturbação do sossego'\n",
    "\"\"\"\n",
    "  \n",
    "# criando o Pandas DataFrame\n",
    "df_query7 = bd.read_sql(query7, billing_project_id=\"dados-rio-gbs\")\n",
    "df_query7.head()"
   ]
  },
  {
   "cell_type": "code",
   "execution_count": null,
   "metadata": {},
   "outputs": [],
   "source": [
    "df_query7.shape"
   ]
  },
  {
   "cell_type": "markdown",
   "metadata": {},
   "source": [
    "#### 8. Quantos chamados desse subtipo foram abertos em cada evento?"
   ]
  },
  {
   "cell_type": "code",
   "execution_count": 17,
   "metadata": {},
   "outputs": [
    {
     "name": "stdout",
     "output_type": "stream",
     "text": [
      "Downloading: 100%|\u001b[32m██████████\u001b[0m|\n"
     ]
    },
    {
     "data": {
      "text/html": [
       "<div>\n",
       "<style scoped>\n",
       "    .dataframe tbody tr th:only-of-type {\n",
       "        vertical-align: middle;\n",
       "    }\n",
       "\n",
       "    .dataframe tbody tr th {\n",
       "        vertical-align: top;\n",
       "    }\n",
       "\n",
       "    .dataframe thead th {\n",
       "        text-align: right;\n",
       "    }\n",
       "</style>\n",
       "<table border=\"1\" class=\"dataframe\">\n",
       "  <thead>\n",
       "    <tr style=\"text-align: right;\">\n",
       "      <th></th>\n",
       "      <th>evento</th>\n",
       "      <th>chamados_por_evento</th>\n",
       "    </tr>\n",
       "  </thead>\n",
       "  <tbody>\n",
       "    <tr>\n",
       "      <th>0</th>\n",
       "      <td>Rock in Rio</td>\n",
       "      <td>834</td>\n",
       "    </tr>\n",
       "    <tr>\n",
       "      <th>1</th>\n",
       "      <td>Carnaval</td>\n",
       "      <td>241</td>\n",
       "    </tr>\n",
       "    <tr>\n",
       "      <th>2</th>\n",
       "      <td>Reveillon</td>\n",
       "      <td>139</td>\n",
       "    </tr>\n",
       "  </tbody>\n",
       "</table>\n",
       "</div>"
      ],
      "text/plain": [
       "        evento  chamados_por_evento\n",
       "0  Rock in Rio                  834\n",
       "1     Carnaval                  241\n",
       "2    Reveillon                  139"
      ]
     },
     "execution_count": 17,
     "metadata": {},
     "output_type": "execute_result"
    }
   ],
   "source": [
    "query8 = \"\"\"\n",
    "SELECT \n",
    "  evento,\n",
    "  COUNT(*) as chamados_por_evento\n",
    "FROM \n",
    "  `datario.adm_central_atendimento_1746.chamado`\n",
    "RIGHT JOIN `datario.turismo_fluxo_visitantes.rede_hoteleira_ocupacao_eventos`\n",
    "  ON DATE(`datario.adm_central_atendimento_1746.chamado`.data_inicio) \n",
    "    BETWEEN \n",
    "      DATE(`datario.turismo_fluxo_visitantes.rede_hoteleira_ocupacao_eventos`.data_inicial) AND DATE(`datario.turismo_fluxo_visitantes.rede_hoteleira_ocupacao_eventos`.data_final)\n",
    "WHERE \n",
    "  subtipo = 'Perturbação do sossego'\n",
    "GROUP BY \n",
    "  evento\n",
    "\"\"\"\n",
    "\n",
    "# criando o Pandas DataFrame\n",
    "df_query8 = bd.read_sql(query8, billing_project_id=\"dados-rio-gbs\")\n",
    "df_query8.head()"
   ]
  },
  {
   "cell_type": "markdown",
   "metadata": {},
   "source": [
    "R: 834 chamados durante os dois períodos do Rock in Rio, 241 chamados durante o Carnaval e 139 chamados durante o Reveillon."
   ]
  },
  {
   "cell_type": "markdown",
   "metadata": {},
   "source": [
    "#### 9. Qual evento teve a maior média diária de chamados abertos desse subtipo?\n",
    "\n",
    "Para isso, criarei uma CTE e utilizarei a média da contagem por dia de evento."
   ]
  },
  {
   "cell_type": "code",
   "execution_count": 21,
   "metadata": {},
   "outputs": [
    {
     "name": "stdout",
     "output_type": "stream",
     "text": [
      "Downloading: 100%|\u001b[32m██████████\u001b[0m|\n"
     ]
    },
    {
     "data": {
      "text/html": [
       "<div>\n",
       "<style scoped>\n",
       "    .dataframe tbody tr th:only-of-type {\n",
       "        vertical-align: middle;\n",
       "    }\n",
       "\n",
       "    .dataframe tbody tr th {\n",
       "        vertical-align: top;\n",
       "    }\n",
       "\n",
       "    .dataframe thead th {\n",
       "        text-align: right;\n",
       "    }\n",
       "</style>\n",
       "<table border=\"1\" class=\"dataframe\">\n",
       "  <thead>\n",
       "    <tr style=\"text-align: right;\">\n",
       "      <th></th>\n",
       "      <th>evento</th>\n",
       "      <th>media_chamados_por_evento</th>\n",
       "    </tr>\n",
       "  </thead>\n",
       "  <tbody>\n",
       "    <tr>\n",
       "      <th>0</th>\n",
       "      <td>Rock in Rio</td>\n",
       "      <td>119.142857</td>\n",
       "    </tr>\n",
       "    <tr>\n",
       "      <th>1</th>\n",
       "      <td>Carnaval</td>\n",
       "      <td>60.250000</td>\n",
       "    </tr>\n",
       "    <tr>\n",
       "      <th>2</th>\n",
       "      <td>Reveillon</td>\n",
       "      <td>46.333333</td>\n",
       "    </tr>\n",
       "  </tbody>\n",
       "</table>\n",
       "</div>"
      ],
      "text/plain": [
       "        evento  media_chamados_por_evento\n",
       "0  Rock in Rio                 119.142857\n",
       "1     Carnaval                  60.250000\n",
       "2    Reveillon                  46.333333"
      ]
     },
     "execution_count": 21,
     "metadata": {},
     "output_type": "execute_result"
    }
   ],
   "source": [
    "\n",
    "query9 = \"\"\"\n",
    "WITH diarias AS (\n",
    "  SELECT\n",
    "    evento,\n",
    "    DATE(data_inicio) AS data_chamado,\n",
    "    COUNT(*) AS chamados_diarios\n",
    "  FROM\n",
    "    `datario.adm_central_atendimento_1746.chamado`\n",
    "  RIGHT JOIN `datario.turismo_fluxo_visitantes.rede_hoteleira_ocupacao_eventos`\n",
    "    ON DATE(`datario.adm_central_atendimento_1746.chamado`.data_inicio) BETWEEN DATE(`datario.turismo_fluxo_visitantes.rede_hoteleira_ocupacao_eventos`.data_inicial) AND DATE(`datario.turismo_fluxo_visitantes.rede_hoteleira_ocupacao_eventos`.data_final)\n",
    "  WHERE\n",
    "    subtipo = 'Perturbação do sossego'\n",
    "  GROUP BY\n",
    "    evento,\n",
    "    DATE(data_inicio)\n",
    ")\n",
    "SELECT\n",
    "  evento,\n",
    "  AVG(chamados_diarios) AS media_chamados_por_evento\n",
    "FROM\n",
    "  diarias\n",
    "GROUP BY\n",
    "  evento\"\"\"\n",
    "  \n",
    "# criando o Pandas DataFrame\n",
    "df_query9 = bd.read_sql(query9, billing_project_id=\"dados-rio-gbs\")\n",
    "df_query9.head()"
   ]
  },
  {
   "cell_type": "markdown",
   "metadata": {},
   "source": [
    "R: Rock in Rio juntando os dois períodos com 119 chamados abertos por dia de evento."
   ]
  },
  {
   "cell_type": "markdown",
   "metadata": {},
   "source": [
    "#### 10. Compare as médias diárias de chamados abertos desse subtipo durante os eventos específicos (Reveillon, Carnaval e Rock in Rio) e a média diária de chamados abertos desse subtipo considerando todo o período de 01/01/2022 até 31/12/2023."
   ]
  },
  {
   "cell_type": "code",
   "execution_count": 22,
   "metadata": {},
   "outputs": [
    {
     "name": "stdout",
     "output_type": "stream",
     "text": [
      "Downloading: 100%|\u001b[32m██████████\u001b[0m|\n"
     ]
    },
    {
     "data": {
      "text/html": [
       "<div>\n",
       "<style scoped>\n",
       "    .dataframe tbody tr th:only-of-type {\n",
       "        vertical-align: middle;\n",
       "    }\n",
       "\n",
       "    .dataframe tbody tr th {\n",
       "        vertical-align: top;\n",
       "    }\n",
       "\n",
       "    .dataframe thead th {\n",
       "        text-align: right;\n",
       "    }\n",
       "</style>\n",
       "<table border=\"1\" class=\"dataframe\">\n",
       "  <thead>\n",
       "    <tr style=\"text-align: right;\">\n",
       "      <th></th>\n",
       "      <th>evento</th>\n",
       "      <th>media_chamados_por_evento</th>\n",
       "      <th>media_diaria_chamados</th>\n",
       "    </tr>\n",
       "  </thead>\n",
       "  <tbody>\n",
       "    <tr>\n",
       "      <th>0</th>\n",
       "      <td>Reveillon</td>\n",
       "      <td>46.333333</td>\n",
       "      <td>61.982634</td>\n",
       "    </tr>\n",
       "    <tr>\n",
       "      <th>1</th>\n",
       "      <td>Rock in Rio</td>\n",
       "      <td>119.142857</td>\n",
       "      <td>61.982634</td>\n",
       "    </tr>\n",
       "    <tr>\n",
       "      <th>2</th>\n",
       "      <td>Carnaval</td>\n",
       "      <td>60.250000</td>\n",
       "      <td>61.982634</td>\n",
       "    </tr>\n",
       "  </tbody>\n",
       "</table>\n",
       "</div>"
      ],
      "text/plain": [
       "        evento  media_chamados_por_evento  media_diaria_chamados\n",
       "0    Reveillon                  46.333333              61.982634\n",
       "1  Rock in Rio                 119.142857              61.982634\n",
       "2     Carnaval                  60.250000              61.982634"
      ]
     },
     "execution_count": 22,
     "metadata": {},
     "output_type": "execute_result"
    }
   ],
   "source": [
    "query10 = \"\"\"\n",
    "WITH diarias AS (\n",
    "  SELECT\n",
    "    evento,\n",
    "    DATE(data_inicio) AS data_chamado,\n",
    "    COUNT(*) AS chamados_diarios\n",
    "  FROM\n",
    "    `datario.adm_central_atendimento_1746.chamado`\n",
    "  RIGHT JOIN `datario.turismo_fluxo_visitantes.rede_hoteleira_ocupacao_eventos`\n",
    "    ON DATE(`datario.adm_central_atendimento_1746.chamado`.data_inicio) BETWEEN DATE(`datario.turismo_fluxo_visitantes.rede_hoteleira_ocupacao_eventos`.data_inicial) AND DATE(`datario.turismo_fluxo_visitantes.rede_hoteleira_ocupacao_eventos`.data_final)\n",
    "  WHERE\n",
    "    subtipo = 'Perturbação do sossego'\n",
    "  GROUP BY\n",
    "    evento,\n",
    "    DATE(data_inicio)\n",
    "),\n",
    "media_chamados_por_evento AS (\n",
    "SELECT\n",
    "  evento,\n",
    "  AVG(chamados_diarios) AS media_chamados_por_evento\n",
    "FROM\n",
    "  diarias\n",
    "GROUP BY\n",
    "  evento\n",
    "),\n",
    "chamados_diarios_ano AS (\n",
    "  SELECT\n",
    "    DATE(data_inicio) AS data_chamada,\n",
    "    COUNT(*) AS chamados_diarios\n",
    "  FROM\n",
    "    `datario.adm_central_atendimento_1746.chamado`\n",
    "  WHERE\n",
    "    DATE(data_inicio) BETWEEN '2022-01-01' AND '2023-12-31'\n",
    "    AND subtipo = 'Perturbação do sossego'\n",
    "  GROUP BY\n",
    "    DATE(data_inicio)\n",
    "),\n",
    "media_chamados_ano AS (\n",
    "SELECT\n",
    "  AVG(chamados_diarios) AS media_diaria_chamados\n",
    "FROM\n",
    "  chamados_diarios_ano\n",
    ")\n",
    "SELECT\n",
    "  m.evento,\n",
    "  m.media_chamados_por_evento,\n",
    "  d.media_diaria_chamados\n",
    "FROM\n",
    "  media_chamados_por_evento AS m\n",
    "CROSS JOIN\n",
    "  media_chamados_ano AS d\n",
    "  \"\"\"\n",
    "  \n",
    "# criando o Pandas DataFrame\n",
    "df_query10 = bd.read_sql(query10, billing_project_id=\"dados-rio-gbs\")\n",
    "df_query10.head()"
   ]
  },
  {
   "cell_type": "markdown",
   "metadata": {},
   "source": [
    "R: Fiz CTE's com as queries das questões anteriores e utilize um CROSS JOIN para comparar os períodos, como consta acima.\n",
    "\n",
    "A proporção de chamados abertos do período mencionado em relação ao período dos eventos é parecida exceto pelo evento Rock in Rio que possui quase o dobro de chamados."
   ]
  },
  {
   "cell_type": "markdown",
   "metadata": {},
   "source": []
  }
 ],
 "metadata": {
  "kernelspec": {
   "display_name": "Python 3",
   "language": "python",
   "name": "python3"
  },
  "language_info": {
   "codemirror_mode": {
    "name": "ipython",
    "version": 3
   },
   "file_extension": ".py",
   "mimetype": "text/x-python",
   "name": "python",
   "nbconvert_exporter": "python",
   "pygments_lexer": "ipython3",
   "version": "3.11.1"
  }
 },
 "nbformat": 4,
 "nbformat_minor": 2
}
