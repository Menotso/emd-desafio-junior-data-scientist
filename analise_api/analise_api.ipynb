{
 "cells": [
  {
   "cell_type": "markdown",
   "metadata": {},
   "source": [
    "Fontes:\n",
    "- [Requisições da NagerDateAPI](https://date.nager.at/swagger/index.html);\n",
    "- [GitHub NagerDateAPI](https://github.com/nager/Nager.Date);\n",
    "- [Página da NagerDateAPI](https://date.nager.at/Api);\n",
    "- [Open-Meteo - Free Weather API](https://open-meteo.com/)\n",
    "- [Documentação Free Weather API](https://open-meteo.com/en/docs)\n",
    "\n",
    "## Importando as Bibliotecas"
   ]
  },
  {
   "cell_type": "code",
   "execution_count": 33,
   "metadata": {},
   "outputs": [],
   "source": [
    "\n",
    "# para fazer requisições GET\n",
    "import requests\n",
    "# para trabalhar com os arquivos recebidos pela API\n",
    "import json\n",
    "# para manuseio e cálculo de datas\n",
    "from datetime import datetime as dt"
   ]
  },
  {
   "cell_type": "markdown",
   "metadata": {},
   "source": [
    "### Funções que usaremos"
   ]
  },
  {
   "cell_type": "code",
   "execution_count": 3,
   "metadata": {},
   "outputs": [],
   "source": [
    "# faz requisições GET na URL especificada\n",
    "def get(url):\n",
    "    resposta = requests.get(url)\n",
    "    return resposta"
   ]
  },
  {
   "cell_type": "code",
   "execution_count": 35,
   "metadata": {},
   "outputs": [],
   "source": [
    "# verifica se a data fornecida corresponde à um dia de semana (segunda até sexta feira)\n",
    "def verifica_dia_da_semana(ui_data: str) -> bool:\n",
    "    # Transformamos a string no formato aceito pela lib datetime\n",
    "    data = dt.strptime(ui_data, \"%Y-%m-%d\")\n",
    "    \n",
    "    return 0 <= data.weekday() <= 4"
   ]
  },
  {
   "cell_type": "markdown",
   "metadata": {},
   "source": [
    "Observação sobre `PublicHolidaysAPI` -> De acordo com a fonte, a requisição **GET** `https://date.nager.at/api/v3/publicholidays/2024/BR` retorna:\n",
    "\n",
    "```json\n",
    " {\n",
    "    \"date\": \"2024-11-15\",\n",
    "    \"localName\": \"Proclamação da República\",\n",
    "    \"name\": \"Republic Proclamation Day\",\n",
    "    \"countryCode\": \"BR\",\n",
    "    \"fixed\": false,\n",
    "    \"global\": true,\n",
    "    \"counties\": null,\n",
    "    \"launchYear\": null,\n",
    "    \"types\": [\n",
    "      \"Public\"\n",
    "    ]\n",
    "  }\n",
    "```"
   ]
  },
  {
   "cell_type": "markdown",
   "metadata": {},
   "source": [
    "## Questões\n",
    "\n",
    "#### 1. **Quantos feriados há no Brasil em todo o ano de 2024?**"
   ]
  },
  {
   "cell_type": "code",
   "execution_count": 37,
   "metadata": {},
   "outputs": [],
   "source": [
    "# Requisição GET para as questões 1 a 3.\n",
    "resposta = get('https://date.nager.at/api/v3/publicholidays/2024/BR')\n",
    "feriados = json.loads(resposta.content)"
   ]
  },
  {
   "cell_type": "code",
   "execution_count": 21,
   "metadata": {},
   "outputs": [
    {
     "name": "stdout",
     "output_type": "stream",
     "text": [
      "Há 14 feriados em 2024 no Brasil.\n"
     ]
    }
   ],
   "source": [
    "print(f\"Há {len(feriados)} feriados em 2024 no Brasil.\")"
   ]
  },
  {
   "cell_type": "markdown",
   "metadata": {},
   "source": [
    "R: Há 14 feriados durante o ano de 2024 no Brasil."
   ]
  },
  {
   "cell_type": "markdown",
   "metadata": {},
   "source": [
    "#### 2. **Qual mês de 2024 tem o maior número de feriados?**"
   ]
  },
  {
   "cell_type": "code",
   "execution_count": 27,
   "metadata": {},
   "outputs": [
    {
     "name": "stdout",
     "output_type": "stream",
     "text": [
      "{'01': 1, '02': 2, '03': 2, '04': 1, '05': 2, '06': 0, '07': 1, '08': 0, '09': 1, '10': 1, '11': 2, '12': 1}\n"
     ]
    }
   ],
   "source": [
    "dict_feriados = {'01': 0,\n",
    "                 '02': 0,\n",
    "                 '03': 0,\n",
    "                 '04': 0,\n",
    "                 '05': 0,\n",
    "                 '06': 0,\n",
    "                 '07': 0,\n",
    "                 '08': 0,\n",
    "                 '09': 0,\n",
    "                 '10': 0,\n",
    "                 '11': 0,\n",
    "                 '12': 0\n",
    "                 }\n",
    "\n",
    "for feriado in feriados:\n",
    "    dict_feriados[str(feriado['date'][5:7])] += 1\n",
    "    \n",
    "print(dict_feriados)"
   ]
  },
  {
   "cell_type": "markdown",
   "metadata": {},
   "source": [
    "R: Fevereiro, Março, Maio e Novembro possuem a mesma quantidade de feriados, são dois em cada mês."
   ]
  },
  {
   "cell_type": "markdown",
   "metadata": {},
   "source": [
    "#### 3. **Quantos feriados em 2024 caem em dias de semana (segunda a sexta-feira)?**"
   ]
  },
  {
   "cell_type": "code",
   "execution_count": 36,
   "metadata": {},
   "outputs": [
    {
     "name": "stdout",
     "output_type": "stream",
     "text": [
      "Há 9 feriados em dias de semana.\n"
     ]
    }
   ],
   "source": [
    "feriados_em_dia_de_semana = int()\n",
    "for feriado in feriados:\n",
    "    if verifica_dia_da_semana(feriado['date']):\n",
    "        feriados_em_dia_de_semana += 1\n",
    "\n",
    "print(f\"Há {feriados_em_dia_de_semana} feriados em dias de semana.\")"
   ]
  },
  {
   "cell_type": "markdown",
   "metadata": {},
   "source": [
    "Há 9 feriados em dias de semana no ano de 2024 no Brasil."
   ]
  },
  {
   "cell_type": "markdown",
   "metadata": {},
   "source": [
    "#### 4. **Qual foi a temperatura média em cada mês?**  \n",
    "   Utilize a Open-Meteo Historical Weather API para obter as temperaturas médias diárias no Rio de Janeiro de 01/01/2024 a 01/08/2024.\n",
    "   \n",
    "   Verificando nas fontes, o Rio de Janeiro corresponde à:\n",
    "   - Latitude: -22,9064; e\n",
    "   - Longitude: -43,1822."
   ]
  },
  {
   "cell_type": "code",
   "execution_count": null,
   "metadata": {},
   "outputs": [],
   "source": []
  },
  {
   "cell_type": "markdown",
   "metadata": {},
   "source": [
    "   \n",
    "#### 5. **Qual foi o tempo predominante em cada mês nesse período?**  \n",
    "   Utilize como referência para o código de tempo (_weather_code_) o seguinte link: [WMO Code](https://gist.github.com/stellasphere/9490c195ed2b53c707087c8c2db4ec0c)."
   ]
  },
  {
   "cell_type": "code",
   "execution_count": null,
   "metadata": {},
   "outputs": [],
   "source": []
  },
  {
   "cell_type": "markdown",
   "metadata": {},
   "source": [
    "#### 6. **Qual foi o tempo e a temperatura média em cada feriado de 01/01/2024 a 01/08/2024?**"
   ]
  },
  {
   "cell_type": "code",
   "execution_count": null,
   "metadata": {},
   "outputs": [],
   "source": []
  },
  {
   "cell_type": "markdown",
   "metadata": {},
   "source": [
    "#### 7. **Considere as seguintes suposições:**\n",
    "   - O cidadão carioca considera \"frio\" um dia cuja temperatura média é menor que 20ºC;\n",
    "   - Um feriado bem aproveitado no Rio de Janeiro é aquele em que se pode ir à praia;\n",
    "   - O cidadão carioca só vai à praia quando não está com frio;\n",
    "   - O cidadão carioca também só vai à praia em dias com sol, evitando dias **totalmente** nublados ou chuvosos (considere _weather_code_ para determinar as condições climáticas).\n",
    "\n",
    "   Houve algum feriado \"não aproveitável\" em 2024? Se sim, qual(is)?"
   ]
  },
  {
   "cell_type": "code",
   "execution_count": null,
   "metadata": {},
   "outputs": [],
   "source": []
  },
  {
   "cell_type": "markdown",
   "metadata": {},
   "source": [
    "#### 8. **Qual foi o feriado \"mais aproveitável\" de 2024?**  \n",
    "   Considere o melhor par tempo e temperatura."
   ]
  },
  {
   "cell_type": "markdown",
   "metadata": {},
   "source": []
  }
 ],
 "metadata": {
  "kernelspec": {
   "display_name": "Python 3",
   "language": "python",
   "name": "python3"
  },
  "language_info": {
   "codemirror_mode": {
    "name": "ipython",
    "version": 3
   },
   "file_extension": ".py",
   "mimetype": "text/x-python",
   "name": "python",
   "nbconvert_exporter": "python",
   "pygments_lexer": "ipython3",
   "version": "3.11.1"
  }
 },
 "nbformat": 4,
 "nbformat_minor": 2
}
